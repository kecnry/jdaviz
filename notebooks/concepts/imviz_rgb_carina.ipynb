{
 "cells": [
  {
   "cell_type": "markdown",
   "id": "05aabc52",
   "metadata": {},
   "source": [
    "First retrieve all the images from MAST (NOTE: this will take a while to run the first time, but successive runs will detect the files already exist)"
   ]
  },
  {
   "cell_type": "code",
   "execution_count": null,
   "id": "9c9737fc",
   "metadata": {},
   "outputs": [],
   "source": [
    "from astroquery.mast import Observations \n",
    "\n",
    "files = ['jw02731-o001_t017_nircam_clear-f090w_i2d.fits',\n",
    "         'jw02731-o001_t017_nircam_clear-f187n_i2d.fits',\n",
    "         'jw02731-o001_t017_nircam_clear-f200w_i2d.fits',\n",
    "         'jw02731-o001_t017_nircam_clear-f335m_i2d.fits',\n",
    "         'jw02731-o001_t017_nircam_clear-f444w_i2d.fits',\n",
    "         'jw02731-o001_t017_nircam_f444w-f470n_i2d.fits'\n",
    "        ]\n",
    "\n",
    "\n",
    "for f in files:\n",
    "    result = Observations.download_file(f'mast:JWST/product/{f}', base_url=\"https://mast.stsci.edu/api/v0.1/Download/file\")"
   ]
  },
  {
   "cell_type": "code",
   "execution_count": null,
   "id": "2afd783a",
   "metadata": {},
   "outputs": [],
   "source": [
    "import warnings\n",
    "warnings.simplefilter('ignore')\n",
    "\n",
    "from jdaviz import Imviz\n",
    "\n",
    "imviz = Imviz(verbosity='error')\n",
    "for f in files:\n",
    "    imviz.load_data(f, data_label=f[31:36])\n",
    "\n",
    "\n",
    "# Link images by WCS (without affine approximation)\n",
    "imviz.plugins['Links Control'].link_type = 'WCS'\n",
    "imviz.plugins['Links Control'].wcs_use_affine = False\n",
    "\n",
    "imviz.show()"
   ]
  },
  {
   "cell_type": "markdown",
   "id": "db342362",
   "metadata": {},
   "source": [
    "Now we'll use the [plot options plugin API](https://jdaviz.readthedocs.io/en/latest/api/jdaviz.configs.default.plugins.plot_options.plot_options.PlotOptions.html#jdaviz.configs.default.plugins.plot_options.plot_options.PlotOptions) to set the color settings for the various image layers."
   ]
  },
  {
   "cell_type": "code",
   "execution_count": null,
   "id": "ac39e20a",
   "metadata": {},
   "outputs": [],
   "source": [
    "p = imviz.plugins['Plot Options']\n",
    "p.open_in_tray()"
   ]
  },
  {
   "cell_type": "markdown",
   "id": "8ee42d2d",
   "metadata": {},
   "source": [
    "First we'll set the color mode so that each layer is assigned its own color (instead of colormaps)."
   ]
  },
  {
   "cell_type": "code",
   "execution_count": null,
   "id": "f385cb0a",
   "metadata": {},
   "outputs": [],
   "source": [
    "p.image_color_mode = 'Monochromatic'"
   ]
  },
  {
   "cell_type": "markdown",
   "id": "241de0a7",
   "metadata": {},
   "source": [
    "We can now color each layer based on the [NIRCam filters](https://jwst-docs.stsci.edu/jwst-near-infrared-camera/nircam-instrumentation/nircam-filters).  \n",
    "\n",
    "Here the plot options plugin UI was used to manually find reasonable values for all the layer settings, and then copied into the dictionary so that it could be reproduced programmatically in the notebook.  For example, we can select a layer in the dropdown, use the opacity slider, and then either copy the value from the slider or access it with `p.image_opacity`, and populate the dictionary below."
   ]
  },
  {
   "cell_type": "code",
   "execution_count": null,
   "id": "8a86c6a5",
   "metadata": {},
   "outputs": [],
   "source": [
    "img_settings = {'f090w': {'image_color': '#cc7ace',\n",
    "                          'stretch_vmax': 4,\n",
    "                          'image_opacity': 0.32,\n",
    "                          'image_contrast': 0.69,\n",
    "                          'image_bias': 0.39},\n",
    "                'f187n': {'image_color': '#66cfef',\n",
    "                          'stretch_vmin': 0,\n",
    "                          'stretch_vmax': 16,\n",
    "                          'image_opacity': 0.4,\n",
    "                          'image_contrast': 0.94,\n",
    "                          'image_bias': 0.74},\n",
    "                'f200w': {'image_color': '#61d3e1',\n",
    "                          'stretch_vmax': 6,\n",
    "                          'image_opacity': 0.31,\n",
    "                          'image_contrast': 2.15,\n",
    "                          'image_bias': 0.66},\n",
    "                'f335m': {'image_color': '#afff6b',\n",
    "                          'stretch_vmin': 4,\n",
    "                          'stretch_vmax': 27,\n",
    "                          'image_opacity': 0.23,\n",
    "                          'image_contrast': 3.13,\n",
    "                          'image_bias': 0.67},\n",
    "                'f444w': {'image_color': '#ff767c',\n",
    "                          'stretch_vmax': 10,\n",
    "                          'image_opacity': 0.18,\n",
    "                          'image_contrast': 1.77,\n",
    "                          'image_bias': 0.56},\n",
    "                'f470n': {'image_color': '#f7787d',\n",
    "                          'stretch_vmin': 1,\n",
    "                          'stretch_vmax': 11,\n",
    "                          'image_opacity': 0.4,\n",
    "                          'image_contrast': 2.53,\n",
    "                          'image_bias': 0.27}}"
   ]
  },
  {
   "cell_type": "markdown",
   "id": "2a7a667f",
   "metadata": {},
   "source": [
    "We can now iterate over this dictionary of settings and use the plot options API to set each of the options."
   ]
  },
  {
   "cell_type": "code",
   "execution_count": null,
   "id": "2bd3bea3",
   "metadata": {},
   "outputs": [],
   "source": [
    "for layer, settings in img_settings.items():\n",
    "    p.layer = f'{layer}[DATA]'\n",
    "    for k,v in settings.items():\n",
    "        setattr(p, k, v)"
   ]
  },
  {
   "cell_type": "markdown",
   "id": "afb024c3",
   "metadata": {},
   "source": [
    "And lastly, we can save to an image using the export plot plugin"
   ]
  },
  {
   "cell_type": "code",
   "execution_count": null,
   "id": "aae25293",
   "metadata": {},
   "outputs": [],
   "source": [
    "imviz.plugins['Export Plot'].save_figure('carina_rgb.png')"
   ]
  }
 ],
 "metadata": {
  "kernelspec": {
   "display_name": "Python 3 (ipykernel)",
   "language": "python",
   "name": "python3"
  },
  "language_info": {
   "codemirror_mode": {
    "name": "ipython",
    "version": 3
   },
   "file_extension": ".py",
   "mimetype": "text/x-python",
   "name": "python",
   "nbconvert_exporter": "python",
   "pygments_lexer": "ipython3",
   "version": "3.8.12"
  }
 },
 "nbformat": 4,
 "nbformat_minor": 5
}
